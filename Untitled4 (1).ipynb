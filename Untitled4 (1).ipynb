{
 "cells": [
  {
   "cell_type": "code",
   "execution_count": null,
   "id": "7b07a5f1",
   "metadata": {},
   "outputs": [],
   "source": [
    "marks=[]\n",
    "gpa=float()\n",
    "credit=[]\n",
    "gpa=float()\n",
    "cgpa=int()\n",
    "final_marks_sub=float()\n",
    "name=input(\"ENTER YOUR NAME :\")\n",
    "clg=input(\"ENTERE YOUR COLLEGE NAME: \")\n",
    "roll_num=int(input(\"ENTER YOUR ROLL NUMBER GIVEN BY YOUR UNIVERSITY:\"))\n",
    "std=int(input(\"ENTER [1] IF YOU HAVE COMPLETED 4th YEAR OR ENTER [2] IF YOU HAVE NOT COMPLETED YOUR STUDIES:\"))\n",
    "if std==2:\n",
    "    year=int(input(\"ENTER YOUR CURRENT YEAR:\"))\n",
    "    sem=int(input(\"ENTER THE SEM TILL WHICH YOU WANNA FIND THE CGPA:\"))\n",
    "else: \n",
    "    print(\"YOU HAVE COMPLETED YOUR ENGINEERING DEGREE!!!\")\n",
    "    year=int(input(\"ENTER THE SEM TILL WHICH YOU WANNA FIND THE CGPA:\"))\n",
    "sub=int(input(\"ENTER THE TOTAL NUMBER SUBJECTS :\")) \n",
    "for i in range(0,sub):\n",
    "    marks.append(int(input(\"ENTER YOUR MARKS SCORED IN SUBJECT[ENTER THE MARKS IN POINTS]: \")))\n",
    "    credit.append(int(input(\"ENTER THE CREDITS FOR THAT  PARTICULAR SUBJECT:\")))\n",
    "    final_marks_sub=sum(marks)\n",
    "    final_credit=sum(credit)\n",
    "gpa=(final_credit*final_marks_sub)/sub\n",
    "cgpa=(gpa/final_credit)\n",
    "print(\"<--------------->\\n\",name,\",\",roll_num,\" FROM \",clg,\"HAS SECURED \",cgpa,\" OUT OF 10 POINTS \\n<--------------->\")\n"
   ]
  }
 ],
 "metadata": {
  "kernelspec": {
   "display_name": "Python 3 (ipykernel)",
   "language": "python",
   "name": "python3"
  },
  "language_info": {
   "codemirror_mode": {
    "name": "ipython",
    "version": 3
   },
   "file_extension": ".py",
   "mimetype": "text/x-python",
   "name": "python",
   "nbconvert_exporter": "python",
   "pygments_lexer": "ipython3",
   "version": "3.9.7"
  }
 },
 "nbformat": 4,
 "nbformat_minor": 5
}
